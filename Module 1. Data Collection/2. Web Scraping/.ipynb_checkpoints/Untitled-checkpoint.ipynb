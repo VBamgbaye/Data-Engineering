{
 "cells": [
  {
   "cell_type": "code",
   "execution_count": 14,
   "id": "f9688d72",
   "metadata": {},
   "outputs": [],
   "source": [
    "from selenium import webdriver\n",
    "from time import sleep\n",
    "\n",
    "driver = webdriver.Chrome('chromedriver') \n",
    "URL = \"https://www.zoopla.co.uk/new-homes/property/london/?q=London&results_sort=newest_listings&search_source=new-homes&page_size=25&pn=1&view_type=list\"\n",
    "driver.get(URL)"
   ]
  },
  {
   "cell_type": "code",
   "execution_count": 6,
   "id": "5528fc9f",
   "metadata": {},
   "outputs": [
    {
     "name": "stdout",
     "output_type": "stream",
     "text": [
      "[<selenium.webdriver.remote.webelement.WebElement (session=\"e6a57cc9733e41b454a3ca26fce8ec3c\", element=\"87e655b4-5a19-48b7-8247-926877c5ae65\")>, <selenium.webdriver.remote.webelement.WebElement (session=\"e6a57cc9733e41b454a3ca26fce8ec3c\", element=\"990acfd9-ef2e-4106-95b7-dd4f10517f74\")>]\n"
     ]
    }
   ],
   "source": [
    "## Find the \"Accept all cookies button\"\n",
    "accept_cookies = driver.find_elements_by_xpath('//button[@data-responsibility=\"acceptAll\"]')\n",
    "print(accept_cookies)"
   ]
  },
  {
   "cell_type": "code",
   "execution_count": 15,
   "id": "09180107",
   "metadata": {},
   "outputs": [
    {
     "ename": "WebDriverException",
     "evalue": "Message: chrome not reachable\n  (Session info: chrome=92.0.4515.131)\n",
     "output_type": "error",
     "traceback": [
      "\u001b[1;31m---------------------------------------------------------------------------\u001b[0m",
      "\u001b[1;31mWebDriverException\u001b[0m                        Traceback (most recent call last)",
      "\u001b[1;32m~\\AppData\\Local\\Temp/ipykernel_15732/2929721212.py\u001b[0m in \u001b[0;36m<module>\u001b[1;34m\u001b[0m\n\u001b[0;32m      1\u001b[0m \u001b[1;32mfor\u001b[0m \u001b[0mbutton\u001b[0m \u001b[1;32min\u001b[0m \u001b[0maccept_cookies\u001b[0m\u001b[1;33m:\u001b[0m\u001b[1;33m\u001b[0m\u001b[1;33m\u001b[0m\u001b[0m\n\u001b[1;32m----> 2\u001b[1;33m     \u001b[1;32mif\u001b[0m \u001b[0mbutton\u001b[0m\u001b[1;33m.\u001b[0m\u001b[0mtext\u001b[0m \u001b[1;33m==\u001b[0m \u001b[1;34m\"Accept all cookies\"\u001b[0m\u001b[1;33m:\u001b[0m\u001b[1;33m\u001b[0m\u001b[1;33m\u001b[0m\u001b[0m\n\u001b[0m\u001b[0;32m      3\u001b[0m         \u001b[0mrelevant_button\u001b[0m \u001b[1;33m=\u001b[0m \u001b[0mbutton\u001b[0m\u001b[1;33m\u001b[0m\u001b[1;33m\u001b[0m\u001b[0m\n\u001b[0;32m      4\u001b[0m \u001b[1;33m\u001b[0m\u001b[0m\n\u001b[0;32m      5\u001b[0m \u001b[0mprint\u001b[0m\u001b[1;33m(\u001b[0m\u001b[0mrelevant_button\u001b[0m\u001b[1;33m)\u001b[0m\u001b[1;33m\u001b[0m\u001b[1;33m\u001b[0m\u001b[0m\n",
      "\u001b[1;32m~\\Miniconda3\\envs\\AiCore\\lib\\site-packages\\selenium\\webdriver\\remote\\webelement.py\u001b[0m in \u001b[0;36mtext\u001b[1;34m(self)\u001b[0m\n\u001b[0;32m     74\u001b[0m     \u001b[1;32mdef\u001b[0m \u001b[0mtext\u001b[0m\u001b[1;33m(\u001b[0m\u001b[0mself\u001b[0m\u001b[1;33m)\u001b[0m\u001b[1;33m:\u001b[0m\u001b[1;33m\u001b[0m\u001b[1;33m\u001b[0m\u001b[0m\n\u001b[0;32m     75\u001b[0m         \u001b[1;34m\"\"\"The text of the element.\"\"\"\u001b[0m\u001b[1;33m\u001b[0m\u001b[1;33m\u001b[0m\u001b[0m\n\u001b[1;32m---> 76\u001b[1;33m         \u001b[1;32mreturn\u001b[0m \u001b[0mself\u001b[0m\u001b[1;33m.\u001b[0m\u001b[0m_execute\u001b[0m\u001b[1;33m(\u001b[0m\u001b[0mCommand\u001b[0m\u001b[1;33m.\u001b[0m\u001b[0mGET_ELEMENT_TEXT\u001b[0m\u001b[1;33m)\u001b[0m\u001b[1;33m[\u001b[0m\u001b[1;34m'value'\u001b[0m\u001b[1;33m]\u001b[0m\u001b[1;33m\u001b[0m\u001b[1;33m\u001b[0m\u001b[0m\n\u001b[0m\u001b[0;32m     77\u001b[0m \u001b[1;33m\u001b[0m\u001b[0m\n\u001b[0;32m     78\u001b[0m     \u001b[1;32mdef\u001b[0m \u001b[0mclick\u001b[0m\u001b[1;33m(\u001b[0m\u001b[0mself\u001b[0m\u001b[1;33m)\u001b[0m\u001b[1;33m:\u001b[0m\u001b[1;33m\u001b[0m\u001b[1;33m\u001b[0m\u001b[0m\n",
      "\u001b[1;32m~\\Miniconda3\\envs\\AiCore\\lib\\site-packages\\selenium\\webdriver\\remote\\webelement.py\u001b[0m in \u001b[0;36m_execute\u001b[1;34m(self, command, params)\u001b[0m\n\u001b[0;32m    631\u001b[0m             \u001b[0mparams\u001b[0m \u001b[1;33m=\u001b[0m \u001b[1;33m{\u001b[0m\u001b[1;33m}\u001b[0m\u001b[1;33m\u001b[0m\u001b[1;33m\u001b[0m\u001b[0m\n\u001b[0;32m    632\u001b[0m         \u001b[0mparams\u001b[0m\u001b[1;33m[\u001b[0m\u001b[1;34m'id'\u001b[0m\u001b[1;33m]\u001b[0m \u001b[1;33m=\u001b[0m \u001b[0mself\u001b[0m\u001b[1;33m.\u001b[0m\u001b[0m_id\u001b[0m\u001b[1;33m\u001b[0m\u001b[1;33m\u001b[0m\u001b[0m\n\u001b[1;32m--> 633\u001b[1;33m         \u001b[1;32mreturn\u001b[0m \u001b[0mself\u001b[0m\u001b[1;33m.\u001b[0m\u001b[0m_parent\u001b[0m\u001b[1;33m.\u001b[0m\u001b[0mexecute\u001b[0m\u001b[1;33m(\u001b[0m\u001b[0mcommand\u001b[0m\u001b[1;33m,\u001b[0m \u001b[0mparams\u001b[0m\u001b[1;33m)\u001b[0m\u001b[1;33m\u001b[0m\u001b[1;33m\u001b[0m\u001b[0m\n\u001b[0m\u001b[0;32m    634\u001b[0m \u001b[1;33m\u001b[0m\u001b[0m\n\u001b[0;32m    635\u001b[0m     \u001b[1;32mdef\u001b[0m \u001b[0mfind_element\u001b[0m\u001b[1;33m(\u001b[0m\u001b[0mself\u001b[0m\u001b[1;33m,\u001b[0m \u001b[0mby\u001b[0m\u001b[1;33m=\u001b[0m\u001b[0mBy\u001b[0m\u001b[1;33m.\u001b[0m\u001b[0mID\u001b[0m\u001b[1;33m,\u001b[0m \u001b[0mvalue\u001b[0m\u001b[1;33m=\u001b[0m\u001b[1;32mNone\u001b[0m\u001b[1;33m)\u001b[0m\u001b[1;33m:\u001b[0m\u001b[1;33m\u001b[0m\u001b[1;33m\u001b[0m\u001b[0m\n",
      "\u001b[1;32m~\\Miniconda3\\envs\\AiCore\\lib\\site-packages\\selenium\\webdriver\\remote\\webdriver.py\u001b[0m in \u001b[0;36mexecute\u001b[1;34m(self, driver_command, params)\u001b[0m\n\u001b[0;32m    319\u001b[0m         \u001b[0mresponse\u001b[0m \u001b[1;33m=\u001b[0m \u001b[0mself\u001b[0m\u001b[1;33m.\u001b[0m\u001b[0mcommand_executor\u001b[0m\u001b[1;33m.\u001b[0m\u001b[0mexecute\u001b[0m\u001b[1;33m(\u001b[0m\u001b[0mdriver_command\u001b[0m\u001b[1;33m,\u001b[0m \u001b[0mparams\u001b[0m\u001b[1;33m)\u001b[0m\u001b[1;33m\u001b[0m\u001b[1;33m\u001b[0m\u001b[0m\n\u001b[0;32m    320\u001b[0m         \u001b[1;32mif\u001b[0m \u001b[0mresponse\u001b[0m\u001b[1;33m:\u001b[0m\u001b[1;33m\u001b[0m\u001b[1;33m\u001b[0m\u001b[0m\n\u001b[1;32m--> 321\u001b[1;33m             \u001b[0mself\u001b[0m\u001b[1;33m.\u001b[0m\u001b[0merror_handler\u001b[0m\u001b[1;33m.\u001b[0m\u001b[0mcheck_response\u001b[0m\u001b[1;33m(\u001b[0m\u001b[0mresponse\u001b[0m\u001b[1;33m)\u001b[0m\u001b[1;33m\u001b[0m\u001b[1;33m\u001b[0m\u001b[0m\n\u001b[0m\u001b[0;32m    322\u001b[0m             response['value'] = self._unwrap_value(\n\u001b[0;32m    323\u001b[0m                 response.get('value', None))\n",
      "\u001b[1;32m~\\Miniconda3\\envs\\AiCore\\lib\\site-packages\\selenium\\webdriver\\remote\\errorhandler.py\u001b[0m in \u001b[0;36mcheck_response\u001b[1;34m(self, response)\u001b[0m\n\u001b[0;32m    240\u001b[0m                 \u001b[0malert_text\u001b[0m \u001b[1;33m=\u001b[0m \u001b[0mvalue\u001b[0m\u001b[1;33m[\u001b[0m\u001b[1;34m'alert'\u001b[0m\u001b[1;33m]\u001b[0m\u001b[1;33m.\u001b[0m\u001b[0mget\u001b[0m\u001b[1;33m(\u001b[0m\u001b[1;34m'text'\u001b[0m\u001b[1;33m)\u001b[0m\u001b[1;33m\u001b[0m\u001b[1;33m\u001b[0m\u001b[0m\n\u001b[0;32m    241\u001b[0m             \u001b[1;32mraise\u001b[0m \u001b[0mexception_class\u001b[0m\u001b[1;33m(\u001b[0m\u001b[0mmessage\u001b[0m\u001b[1;33m,\u001b[0m \u001b[0mscreen\u001b[0m\u001b[1;33m,\u001b[0m \u001b[0mstacktrace\u001b[0m\u001b[1;33m,\u001b[0m \u001b[0malert_text\u001b[0m\u001b[1;33m)\u001b[0m\u001b[1;33m\u001b[0m\u001b[1;33m\u001b[0m\u001b[0m\n\u001b[1;32m--> 242\u001b[1;33m         \u001b[1;32mraise\u001b[0m \u001b[0mexception_class\u001b[0m\u001b[1;33m(\u001b[0m\u001b[0mmessage\u001b[0m\u001b[1;33m,\u001b[0m \u001b[0mscreen\u001b[0m\u001b[1;33m,\u001b[0m \u001b[0mstacktrace\u001b[0m\u001b[1;33m)\u001b[0m\u001b[1;33m\u001b[0m\u001b[1;33m\u001b[0m\u001b[0m\n\u001b[0m\u001b[0;32m    243\u001b[0m \u001b[1;33m\u001b[0m\u001b[0m\n\u001b[0;32m    244\u001b[0m     \u001b[1;32mdef\u001b[0m \u001b[0m_value_or_default\u001b[0m\u001b[1;33m(\u001b[0m\u001b[0mself\u001b[0m\u001b[1;33m,\u001b[0m \u001b[0mobj\u001b[0m\u001b[1;33m,\u001b[0m \u001b[0mkey\u001b[0m\u001b[1;33m,\u001b[0m \u001b[0mdefault\u001b[0m\u001b[1;33m)\u001b[0m\u001b[1;33m:\u001b[0m\u001b[1;33m\u001b[0m\u001b[1;33m\u001b[0m\u001b[0m\n",
      "\u001b[1;31mWebDriverException\u001b[0m: Message: chrome not reachable\n  (Session info: chrome=92.0.4515.131)\n"
     ]
    }
   ],
   "source": [
    "for button in accept_cookies:\n",
    "    if button.text == \"Accept all cookies\":\n",
    "        relevant_button = button\n",
    "        \n",
    "print(relevant_button)"
   ]
  },
  {
   "cell_type": "code",
   "execution_count": 8,
   "id": "c1b660fd",
   "metadata": {},
   "outputs": [],
   "source": [
    "relevant_button.click()"
   ]
  },
  {
   "cell_type": "code",
   "execution_count": 9,
   "id": "75533d82",
   "metadata": {},
   "outputs": [
    {
     "name": "stdout",
     "output_type": "stream",
     "text": [
      "[]\n"
     ]
    }
   ],
   "source": [
    "properties = driver.find_elements_by_xpath(\"//ul[@class='listing-results clearfix js-gtm-list']/li\")\n",
    "print(properties)"
   ]
  },
  {
   "cell_type": "code",
   "execution_count": 10,
   "id": "4806089e",
   "metadata": {},
   "outputs": [
    {
     "ename": "IndexError",
     "evalue": "list index out of range",
     "output_type": "error",
     "traceback": [
      "\u001b[1;31m---------------------------------------------------------------------------\u001b[0m",
      "\u001b[1;31mIndexError\u001b[0m                                Traceback (most recent call last)",
      "\u001b[1;32m~\\AppData\\Local\\Temp/ipykernel_15732/1051391164.py\u001b[0m in \u001b[0;36m<module>\u001b[1;34m\u001b[0m\n\u001b[1;32m----> 1\u001b[1;33m \u001b[0mproperties\u001b[0m\u001b[1;33m[\u001b[0m\u001b[1;36m0\u001b[0m\u001b[1;33m]\u001b[0m\u001b[1;33m.\u001b[0m\u001b[0mtext\u001b[0m\u001b[1;33m\u001b[0m\u001b[1;33m\u001b[0m\u001b[0m\n\u001b[0m",
      "\u001b[1;31mIndexError\u001b[0m: list index out of range"
     ]
    }
   ],
   "source": [
    "properties[0].text"
   ]
  },
  {
   "cell_type": "code",
   "execution_count": 13,
   "id": "11a3b84a",
   "metadata": {},
   "outputs": [],
   "source": [
    "def load_and_accept_cookies():\n",
    "        \n",
    "    driver = webdriver.Chrome('chromedriver') \n",
    "    URL = \"https://www.zoopla.co.uk/new-homes/property/london/?q=London&results_sort=newest_listings&search_source=new-homes&page_size=25&pn=1&view_type=list\"\n",
    "    driver.get(URL)\n",
    "    accept_cookies = driver.find_elements_by_xpath('//button[@data-responsibility=\"acceptAll\"]')\n",
    "    for button in accept_cookies:\n",
    "        if button.text == \"Accept all cookies\":\n",
    "            relevant_button = button\n",
    "\n",
    "    relevant_button.click()\n",
    "    return driver"
   ]
  },
  {
   "cell_type": "code",
   "execution_count": null,
   "id": "6a5fa01a",
   "metadata": {},
   "outputs": [],
   "source": [
    "driver = webdriver.Chrome()\n",
    "URL = \"https://www.zoopla.co.uk/new-homes/property/london/?q=London&results_sort=newest_listings&search_source=new-homes&page_size=25&pn=1&view_type=list\"\n",
    "driver.get(URL)\n",
    "accept_cookies = driver.find_elements_by_xpath('//button[@data-responsibility=\"acceptAll\"]')\n",
    "for button in accept_cookies:\n",
    "    if button.text == \"Accept all cookies\":\n",
    "        relevant_button = button\n",
    "relevant_button.click()\n",
    "prop_container = driver.find_element_by_xpath('//div[@class=\"css-kdnpqc-ListingsContainer earci3d2\"]')\n",
    "properties = prop_container.find_elements_by_xpath('./div')\n",
    "num_props = len(properties)\n",
    "for i in range(num_props):\n",
    "    prop_container = driver.find_element_by_xpath('//div[@class=\"css-kdnpqc-ListingsContainer earci3d2\"]')\n",
    "    house = prop_container.find_elements_by_xpath('./div')[i]\n",
    "    house.click()\n",
    "    time.sleep(5)\n",
    "    driver.back()"
   ]
  },
  {
   "cell_type": "code",
   "execution_count": 16,
   "id": "3458d688",
   "metadata": {},
   "outputs": [],
   "source": [
    "from selenium import webdriver\n",
    "from time import sleep"
   ]
  },
  {
   "cell_type": "code",
   "execution_count": null,
   "id": "e91a4609",
   "metadata": {},
   "outputs": [],
   "source": [
    "def get_properties(num_to_get=2):\n",
    "\n",
    "    driver = load_and_accept_cookies()\n",
    "    \n",
    "    data = {\"sale_price\": [], \"num_bedrooms\": [], \"sqft\": [], \"description\": [], \"address\": []}    \n",
    "    prop_container = driver.find_element_by_xpath('//*[@id=\"__next\"]/div[5]/div[2]/main/div[2]/div[2]')\n",
    "    properties = prop_container.find_elements_by_xpath('./div')\n",
    "    num_props = len(properties)\n",
    "\n",
    "    for i in range(num_props):\n",
    "        prop_container = driver.find_element_by_xpath('//*[@id=\"__next\"]/div[5]/div[2]/main/div[2]/div[2]')\n",
    "        house = prop_container.find_elements_by_xpath('./div')[i]\n",
    "        house.click()\n",
    "            \n",
    "            sleep(3)\n",
    "\n",
    "            ## Find the price and append it to the dictionary\n",
    "            price_elem = driver.find_elements_by_xpath(//*[@id=\"main-content\"]/div[1]/div[1]/section[1]/div[1]/div[2]/span)[i]\n",
    "            data[\"sale_price\"].append(price_elem.text)\n",
    "\n",
    "            ## Find a link to click on\n",
    "            house_page = driver.find_elements_by_xpath(\"{}//a[@class='photo-hover']\".format(PROPERTY_BASE))[i].click()\n",
    "        \n",
    "            sleep(3)\n",
    "        \n",
    "            ## Find the number of bedrooms and append it to the dictionary\n",
    "            ## HINT: https://lmgtfy.com/?q=xpath+svg+tag\n",
    "            ## HINT: https://stackoverflow.com/questions/11657223/xpath-get-following-sibling\n",
    "            bedrooms_elem = driver.find_element_by_xpath(\"//*[name()='svg' and @class='ui-icon icon-bed']/following-sibling::span\")\n",
    "            num_beds = bedrooms_elem.text[:-9] # \" bedrooms\" is 9 chars\n",
    "            data[\"num_bedrooms\"].append(num_beds)\n",
    "\n",
    "            try:\n",
    "                ## Find the number of square footage and append it to the dictionary\n",
    "                sqft_elem = driver.find_element_by_xpath(\"//*[name()='svg' and @class='ui-icon icon-area']/following-sibling::span\")\n",
    "                data[\"sqft\"].append(sqft_elem.text)\n",
    "            except:\n",
    "                data[\"sqft\"].append(\"None\")\n",
    "\n",
    "\n",
    "            ## Find the description and append it to the dictionary\n",
    "            description_elem = driver.find_element_by_xpath(\"//div[@class='dp-description__text']\")\n",
    "            data[\"description\"].append(description_elem.text)\n",
    "\n",
    "            ## Find the address\n",
    "            address_elem = driver.find_element_by_xpath(\"//h2[@class='ui-property-summary__address']\")\n",
    "            data[\"address\"].append(address_elem.text)\n",
    "\n",
    "            driver.execute_script(\"window.history.go(-1)\")\n",
    "        \n",
    "        driver.back()\n",
    "\n",
    "    return data\n",
    "\n",
    "properties = get_properties()"
   ]
  },
  {
   "cell_type": "code",
   "execution_count": 17,
   "id": "24aa79e3",
   "metadata": {},
   "outputs": [],
   "source": [
    "driver = webdriver.Chrome()\n",
    "URL = \"https://www.zoopla.co.uk/new-homes/property/london/?q=London&results_sort=newest_listings&search_source=new-homes&page_size=25&pn=1&view_type=list\"\n",
    "driver.get(URL)\n",
    "accept_cookies = driver.find_elements_by_xpath('//button[@data-responsibility=\"acceptAll\"]')\n",
    "for button in accept_cookies:\n",
    "    if button.text == \"Accept all cookies\":\n",
    "        relevant_button = button\n",
    "relevant_button.click()\n"
   ]
  },
  {
   "cell_type": "code",
   "execution_count": null,
   "id": "01a701b9",
   "metadata": {},
   "outputs": [],
   "source": [
    "#prop_container = driver.find_element_by_xpath('//div[@class=\"css-kdnpqc-ListingsContainer earci3d2\"]')\n",
    "prop_container = driver.find_element_by_xpath('//*[@id=\"__next\"]/div[5]/div[2]/main/div[2]/div[2]')\n",
    "properties = prop_container.find_elements_by_xpath('./div')\n",
    "num_props = len(properties)\n",
    "\n",
    "for i in range(num_props):\n",
    "    prop_container = driver.find_element_by_xpath('//*[@id=\"__next\"]/div[5]/div[2]/main/div[2]/div[2]')\n",
    "    house = prop_container.find_elements_by_xpath('./div')[i]\n",
    "    house.click()\n",
    "    time.sleep(5)\n",
    "    driver.back()"
   ]
  },
  {
   "cell_type": "code",
   "execution_count": 22,
   "id": "198f4618",
   "metadata": {},
   "outputs": [
    {
     "ename": "SyntaxError",
     "evalue": "invalid syntax (Temp/ipykernel_15732/1408664662.py, line 9)",
     "output_type": "error",
     "traceback": [
      "\u001b[1;36m  File \u001b[1;32m\"C:\\Users\\vbamgbay\\AppData\\Local\\Temp/ipykernel_15732/1408664662.py\"\u001b[1;36m, line \u001b[1;32m9\u001b[0m\n\u001b[1;33m    price_elem = driver.find_elements_by_xpath(//*[@id=\"main-content\"]/div[1]/div[1]/section[1]/div[1]/div[2]/span)[i]\u001b[0m\n\u001b[1;37m                                               ^\u001b[0m\n\u001b[1;31mSyntaxError\u001b[0m\u001b[1;31m:\u001b[0m invalid syntax\n"
     ]
    }
   ],
   "source": [
    "for i in range(num_props):\n",
    "        prop_container = driver.find_element_by_xpath('//*[@id=\"__next\"]/div[5]/div[2]/main/div[2]/div[2]')\n",
    "        house = prop_container.find_elements_by_xpath('./div')[i]\n",
    "        house.click()\n",
    "            \n",
    "        sleep(3)\n",
    "\n",
    "            ## Find the price and append it to the dictionary\n",
    "        price_elem = driver.find_elements_by_xpath(//*[@id=\"main-content\"]/div[1]/div[1]/section[1]/div[1]/div[2]/span)[i]\n",
    "        data[\"sale_price\"].append(price_elem.text)"
   ]
  }
 ],
 "metadata": {
  "kernelspec": {
   "display_name": "Python [conda env:AiCore] *",
   "language": "python",
   "name": "conda-env-AiCore-py"
  },
  "language_info": {
   "codemirror_mode": {
    "name": "ipython",
    "version": 3
   },
   "file_extension": ".py",
   "mimetype": "text/x-python",
   "name": "python",
   "nbconvert_exporter": "python",
   "pygments_lexer": "ipython3",
   "version": "3.9.5"
  }
 },
 "nbformat": 4,
 "nbformat_minor": 5
}
